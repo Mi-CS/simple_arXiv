{
 "cells": [
  {
   "cell_type": "code",
   "execution_count": null,
   "metadata": {},
   "outputs": [],
   "source": [
    "# Add source folder to path\n",
    "import sys\n",
    "sys.path.append(\"src\")\n",
    "\n",
    "from retrieval import retrieve_results\n",
    "from pdf_download import pdf_download"
   ]
  },
  {
   "cell_type": "code",
   "execution_count": null,
   "metadata": {},
   "outputs": [],
   "source": [
    "# Get dataframe with results\n",
    "df = retrieve_results('cs.CL', max_results=2, clean_abstract=True)\n",
    "df.head()"
   ]
  },
  {
   "cell_type": "code",
   "execution_count": null,
   "metadata": {},
   "outputs": [],
   "source": [
    "# Download retrieved manuscripts in path\n",
    "path='downloaded_pdfs/'\n",
    "pdf_download(df, path)"
   ]
  },
  {
   "cell_type": "code",
   "execution_count": null,
   "metadata": {},
   "outputs": [],
   "source": [
    "# Use a parser to obtain the pdf content in .txt. In this example \n",
    "# we use tika, and save the text body in a new column.\n",
    "from tika import parser\n",
    "parsed_pdfs = df.apply(lambda entry: parser.from_file(entry.path_to_pdf), axis = 1)\n",
    "df['pdf_metadata'] = parsed_pdfs.apply(lambda x: x['metadata'])\n",
    "df['text_body'] = parsed_pdfs.apply(lambda x: x['content'])"
   ]
  }
 ],
 "metadata": {
  "kernelspec": {
   "display_name": "torch_env",
   "language": "python",
   "name": "python3"
  },
  "language_info": {
   "codemirror_mode": {
    "name": "ipython",
    "version": 3
   },
   "file_extension": ".py",
   "mimetype": "text/x-python",
   "name": "python",
   "nbconvert_exporter": "python",
   "pygments_lexer": "ipython3",
   "version": "3.10.4"
  },
  "orig_nbformat": 4,
  "vscode": {
   "interpreter": {
    "hash": "acd62c5062357039a923d5a2091962054c169ae848350ae1587a2a7c600dc804"
   }
  }
 },
 "nbformat": 4,
 "nbformat_minor": 2
}
